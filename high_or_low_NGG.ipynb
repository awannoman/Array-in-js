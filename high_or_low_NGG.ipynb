{
  "cells": [
    {
      "cell_type": "markdown",
      "metadata": {
        "id": "view-in-github",
        "colab_type": "text"
      },
      "source": [
        "<a href=\"https://colab.research.google.com/github/awannoman/Array-in-js/blob/main/high_or_low_NGG.ipynb\" target=\"_parent\"><img src=\"https://colab.research.google.com/assets/colab-badge.svg\" alt=\"Open In Colab\"/></a>"
      ]
    },
    {
      "cell_type": "code",
      "execution_count": null,
      "metadata": {
        "id": "N_HtFBu54sA8"
      },
      "outputs": [],
      "source": [
        "import random\n",
        "\n",
        "NUM_ROUNDS = 5\n",
        "score = 0\n",
        "\n",
        "print(\"Welcome to High-Low game!\")\n",
        "print(\"-\" * 30)\n",
        "\n",
        "for round_number in range(1, NUM_ROUNDS + 1):\n",
        "\n",
        "  my_random_num:int = random.randint(1, 100)\n",
        "  computer_random_num:int = random.randint(1, 100)\n",
        "\n",
        "  print(f'Round {round_number}')\n",
        "  print(\"-\" * 30)\n",
        "  print(f\"Your number is {my_random_num}\")\n",
        "\n",
        "  user_guess = input(\"Do you think your number is Higher or lower than the computer's?: \").lower()\n",
        "\n",
        "  if ((user_guess == \"higher\" and computer_random_num > my_random_num)\n",
        "  or (user_guess == \"lower\" and computer_random_num < my_random_num)):\n",
        "    print(f\"✅you got a point +1.The computer number is {computer_random_num}\")\n",
        "    score += 1\n",
        "  else:\n",
        "    print(f\"❌wrong answer.The computer number is {computer_random_num}\")\n",
        "print(f'🎉Game over!Your final score is {score}')\n",
        "\n",
        "\n",
        "if score == NUM_ROUNDS:\n",
        "  print(f'Wow! you played perfectly 🏆')\n",
        "elif score >= NUM_ROUNDS-3:\n",
        "  print(f\"Good job you played really well\")\n",
        "else:\n",
        "  print(f'Better luck next time')\n"
      ]
    },
    {
      "cell_type": "code",
      "source": [
        "import random\n",
        "\n",
        "NUM_ROUNDS = 5\n",
        "score = 0\n",
        "\n",
        "print(\"Welcome to High-Low game!\")\n",
        "print(\"-\" * 30)\n",
        "\n",
        "for round_number in range(1, NUM_ROUNDS + 1):\n",
        "\n",
        "  computer_random_num:int = random.randint(1, 100)\n",
        "\n",
        "  print(f'Round {round_number}')\n",
        "  print(\"-\" * 30)\n",
        "\n",
        "  my_random_num = int(input(\"enter your number: \"))\n",
        "\n",
        "  user_guess = input(\"Do you think your number is Higher or lower than the computer's?: \").lower()\n",
        "\n",
        "  if ((user_guess == \"higher\" and computer_random_num > my_random_num)\n",
        "  or (user_guess == \"lower\" and computer_random_num < my_random_num)):\n",
        "    print(f\"✅you got a point +1.The computer number is {computer_random_num}\")\n",
        "    score += 1\n",
        "  else:\n",
        "    print(f\"❌wrong answer.The computer number is {computer_random_num}\")\n",
        "print(f'🎉Game over!Your final score is {score}')\n",
        "\n",
        "\n",
        "if score == NUM_ROUNDS:\n",
        "  print(f'Wow! you played perfectly 🏆')\n",
        "elif score >= NUM_ROUNDS-3:\n",
        "  print(f\"Good job you played really well\")\n",
        "else:\n",
        "  print(f'Better luck next time')\n"
      ],
      "metadata": {
        "id": "x3Q5RvEgeX_J"
      },
      "execution_count": null,
      "outputs": []
    },
    {
      "cell_type": "code",
      "execution_count": null,
      "metadata": {
        "id": "JJtIBAxSwYkh"
      },
      "outputs": [],
      "source": [
        "NUM_ROUNDS = 5\n",
        "for round_number in range(1, NUM_ROUNDS + 1):\n",
        "  print(f'Round {round_number}')"
      ]
    }
  ],
  "metadata": {
    "colab": {
      "provenance": [],
      "authorship_tag": "ABX9TyMMBnW5wKO3MaOIx8p59QEx",
      "include_colab_link": true
    },
    "kernelspec": {
      "display_name": "Python 3",
      "name": "python3"
    },
    "language_info": {
      "name": "python"
    }
  },
  "nbformat": 4,
  "nbformat_minor": 0
}